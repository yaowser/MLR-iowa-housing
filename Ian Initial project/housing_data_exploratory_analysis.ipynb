{
 "cells": [
  {
   "cell_type": "markdown",
   "metadata": {},
   "source": [
    "# Housing Data Exploratory Analysis\n",
    "\n",
    "## by AiO\n",
    "## September 26, 2016\n",
    "\n",
    "For Kaggle competition \"House Prices: Advanced Regression Techniques\":  https://goo.gl/hKF6Iv\n",
    "\n",
    "[Data Descriptions](data_description.txt)"
   ]
  },
  {
   "cell_type": "markdown",
   "metadata": {},
   "source": [
    "## Housekeeping\n",
    "\n",
    "Load some libraries.  If they don't exist, install them first."
   ]
  },
  {
   "cell_type": "code",
   "execution_count": 4,
   "metadata": {
    "collapsed": false,
    "scrolled": true
   },
   "outputs": [
    {
     "name": "stderr",
     "output_type": "stream",
     "text": [
      "Loading required package: testthat\n",
      "\n",
      "Attaching package: ‘testthat’\n",
      "\n",
      "The following object is masked from ‘package:dplyr’:\n",
      "\n",
      "    matches\n",
      "\n",
      "Loading required package: corrplot\n",
      "Loading required package: GGally\n",
      "\n",
      "Attaching package: ‘GGally’\n",
      "\n",
      "The following object is masked from ‘package:dplyr’:\n",
      "\n",
      "    nasa\n",
      "\n",
      "Loading required package: e1071\n"
     ]
    },
    {
     "data": {
      "text/html": [
       "<dl class=dl-horizontal>\n",
       "\t<dt>data.table</dt>\n",
       "\t\t<dd>TRUE</dd>\n",
       "\t<dt>testthat</dt>\n",
       "\t\t<dd>TRUE</dd>\n",
       "\t<dt>gridExtra</dt>\n",
       "\t\t<dd>TRUE</dd>\n",
       "\t<dt>corrplot</dt>\n",
       "\t\t<dd>TRUE</dd>\n",
       "\t<dt>GGally</dt>\n",
       "\t\t<dd>TRUE</dd>\n",
       "\t<dt>ggplot2</dt>\n",
       "\t\t<dd>TRUE</dd>\n",
       "\t<dt>e1071</dt>\n",
       "\t\t<dd>TRUE</dd>\n",
       "\t<dt>dplyr</dt>\n",
       "\t\t<dd>TRUE</dd>\n",
       "</dl>\n"
      ],
      "text/latex": [
       "\\begin{description*}\n",
       "\\item[data.table] TRUE\n",
       "\\item[testthat] TRUE\n",
       "\\item[gridExtra] TRUE\n",
       "\\item[corrplot] TRUE\n",
       "\\item[GGally] TRUE\n",
       "\\item[ggplot2] TRUE\n",
       "\\item[e1071] TRUE\n",
       "\\item[dplyr] TRUE\n",
       "\\end{description*}\n"
      ],
      "text/markdown": [
       "data.table\n",
       ":   TRUEtestthat\n",
       ":   TRUEgridExtra\n",
       ":   TRUEcorrplot\n",
       ":   TRUEGGally\n",
       ":   TRUEggplot2\n",
       ":   TRUEe1071\n",
       ":   TRUEdplyr\n",
       ":   TRUE\n",
       "\n"
      ],
      "text/plain": [
       "data.table   testthat  gridExtra   corrplot     GGally    ggplot2      e1071 \n",
       "      TRUE       TRUE       TRUE       TRUE       TRUE       TRUE       TRUE \n",
       "     dplyr \n",
       "      TRUE "
      ]
     },
     "metadata": {},
     "output_type": "display_data"
    }
   ],
   "source": [
    "load.libraries <- c('data.table', 'testthat', 'gridExtra', 'corrplot', 'GGally', 'ggplot2', 'e1071', 'dplyr')\n",
    "# install.lib <- load.libraries[!load.libraries %in% installed.packages()]\n",
    "# for(libs in install.lib) install.packages(libs, dependences = TRUE)\n",
    "sapply(load.libraries, require, character = TRUE)"
   ]
  },
  {
   "cell_type": "code",
   "execution_count": 5,
   "metadata": {
    "collapsed": false
   },
   "outputs": [
    {
     "ename": "ERROR",
     "evalue": "Error in eval(expr, envir, enclos): object 'train' not found\n",
     "output_type": "error",
     "traceback": [
      "Error in eval(expr, envir, enclos): object 'train' not found\nTraceback:\n"
     ]
    }
   ],
   "source": [
    "cat_var <- names(train)[which(sapply(train, is.character))]\n",
    "cat_car <- c(cat_var, 'BedroomAbvGr', 'HalfBath', ' KitchenAbvGr','BsmtFullBath', 'BsmtHalfBath', 'MSSubClass')\n",
    "numeric_var <- names(train)[which(sapply(train, is.numeric))]"
   ]
  },
  {
   "cell_type": "markdown",
   "metadata": {},
   "source": [
    "Set the working directory."
   ]
  },
  {
   "cell_type": "code",
   "execution_count": 6,
   "metadata": {
    "collapsed": true
   },
   "outputs": [],
   "source": [
    "setwd(\"/Users/iankinskey/Google_Drive/Education/Data_Science/Kaggle/house_prices_advanced_regression_techniques\")"
   ]
  },
  {
   "cell_type": "markdown",
   "metadata": {},
   "source": [
    "Read in training set."
   ]
  },
  {
   "cell_type": "code",
   "execution_count": 7,
   "metadata": {
    "collapsed": true
   },
   "outputs": [],
   "source": [
    "train <- read.csv(\"train.csv\")"
   ]
  },
  {
   "cell_type": "markdown",
   "metadata": {},
   "source": [
    "Identify categorical and numeric variables"
   ]
  },
  {
   "cell_type": "code",
   "execution_count": 23,
   "metadata": {
    "collapsed": false
   },
   "outputs": [],
   "source": [
    "cat_var <- names(train)[which(sapply(train, is.character))] # this doesn't seem to do anything"
   ]
  },
  {
   "cell_type": "code",
   "execution_count": 24,
   "metadata": {
    "collapsed": false
   },
   "outputs": [],
   "source": [
    "cat_car <- c(cat_var, 'BedroomAbvGr', 'HalfBath', ' KitchenAbvGr','BsmtFullBath', 'BsmtHalfBath', 'MSSubClass')"
   ]
  },
  {
   "cell_type": "code",
   "execution_count": 28,
   "metadata": {
    "collapsed": false
   },
   "outputs": [],
   "source": [
    "numeric_var <- names(train)[which(sapply(train, is.numeric))]"
   ]
  },
  {
   "cell_type": "markdown",
   "metadata": {},
   "source": [
    "---\n",
    "## Structure of the data"
   ]
  },
  {
   "cell_type": "markdown",
   "metadata": {},
   "source": [
    "The housing data set has 1460 rows and 81 features with the target feature Sale Price."
   ]
  },
  {
   "cell_type": "code",
   "execution_count": 29,
   "metadata": {
    "collapsed": false
   },
   "outputs": [
    {
     "data": {
      "text/html": [
       "<ol class=list-inline>\n",
       "\t<li>1460</li>\n",
       "\t<li>81</li>\n",
       "</ol>\n"
      ],
      "text/latex": [
       "\\begin{enumerate*}\n",
       "\\item 1460\n",
       "\\item 81\n",
       "\\end{enumerate*}\n"
      ],
      "text/markdown": [
       "1. 1460\n",
       "2. 81\n",
       "\n",
       "\n"
      ],
      "text/plain": [
       "[1] 1460   81"
      ]
     },
     "metadata": {},
     "output_type": "display_data"
    }
   ],
   "source": [
    "dim(train)"
   ]
  },
  {
   "cell_type": "code",
   "execution_count": 30,
   "metadata": {
    "collapsed": false
   },
   "outputs": [
    {
     "name": "stdout",
     "output_type": "stream",
     "text": [
      "'data.frame':\t1460 obs. of  81 variables:\n",
      " $ Id           : int  1 2 3 4 5 6 7 8 9 10 ...\n",
      " $ MSSubClass   : int  60 20 60 70 60 50 20 60 50 190 ...\n",
      " $ MSZoning     : Factor w/ 5 levels \"C (all)\",\"FV\",..: 4 4 4 4 4 4 4 4 5 4 ...\n",
      " $ LotFrontage  : int  65 80 68 60 84 85 75 NA 51 50 ...\n",
      " $ LotArea      : int  8450 9600 11250 9550 14260 14115 10084 10382 6120 7420 ...\n",
      " $ Street       : Factor w/ 2 levels \"Grvl\",\"Pave\": 2 2 2 2 2 2 2 2 2 2 ...\n",
      " $ Alley        : Factor w/ 2 levels \"Grvl\",\"Pave\": NA NA NA NA NA NA NA NA NA NA ...\n",
      " $ LotShape     : Factor w/ 4 levels \"IR1\",\"IR2\",\"IR3\",..: 4 4 1 1 1 1 4 1 4 4 ...\n",
      " $ LandContour  : Factor w/ 4 levels \"Bnk\",\"HLS\",\"Low\",..: 4 4 4 4 4 4 4 4 4 4 ...\n",
      " $ Utilities    : Factor w/ 2 levels \"AllPub\",\"NoSeWa\": 1 1 1 1 1 1 1 1 1 1 ...\n",
      " $ LotConfig    : Factor w/ 5 levels \"Corner\",\"CulDSac\",..: 5 3 5 1 3 5 5 1 5 1 ...\n",
      " $ LandSlope    : Factor w/ 3 levels \"Gtl\",\"Mod\",\"Sev\": 1 1 1 1 1 1 1 1 1 1 ...\n",
      " $ Neighborhood : Factor w/ 25 levels \"Blmngtn\",\"Blueste\",..: 6 25 6 7 14 12 21 17 18 4 ...\n",
      " $ Condition1   : Factor w/ 9 levels \"Artery\",\"Feedr\",..: 3 2 3 3 3 3 3 5 1 1 ...\n",
      " $ Condition2   : Factor w/ 8 levels \"Artery\",\"Feedr\",..: 3 3 3 3 3 3 3 3 3 1 ...\n",
      " $ BldgType     : Factor w/ 5 levels \"1Fam\",\"2fmCon\",..: 1 1 1 1 1 1 1 1 1 2 ...\n",
      " $ HouseStyle   : Factor w/ 8 levels \"1.5Fin\",\"1.5Unf\",..: 6 3 6 6 6 1 3 6 1 2 ...\n",
      " $ OverallQual  : int  7 6 7 7 8 5 8 7 7 5 ...\n",
      " $ OverallCond  : int  5 8 5 5 5 5 5 6 5 6 ...\n",
      " $ YearBuilt    : int  2003 1976 2001 1915 2000 1993 2004 1973 1931 1939 ...\n",
      " $ YearRemodAdd : int  2003 1976 2002 1970 2000 1995 2005 1973 1950 1950 ...\n",
      " $ RoofStyle    : Factor w/ 6 levels \"Flat\",\"Gable\",..: 2 2 2 2 2 2 2 2 2 2 ...\n",
      " $ RoofMatl     : Factor w/ 8 levels \"ClyTile\",\"CompShg\",..: 2 2 2 2 2 2 2 2 2 2 ...\n",
      " $ Exterior1st  : Factor w/ 15 levels \"AsbShng\",\"AsphShn\",..: 13 9 13 14 13 13 13 7 4 9 ...\n",
      " $ Exterior2nd  : Factor w/ 16 levels \"AsbShng\",\"AsphShn\",..: 14 9 14 16 14 14 14 7 16 9 ...\n",
      " $ MasVnrType   : Factor w/ 4 levels \"BrkCmn\",\"BrkFace\",..: 2 3 2 3 2 3 4 4 3 3 ...\n",
      " $ MasVnrArea   : int  196 0 162 0 350 0 186 240 0 0 ...\n",
      " $ ExterQual    : Factor w/ 4 levels \"Ex\",\"Fa\",\"Gd\",..: 3 4 3 4 3 4 3 4 4 4 ...\n",
      " $ ExterCond    : Factor w/ 5 levels \"Ex\",\"Fa\",\"Gd\",..: 5 5 5 5 5 5 5 5 5 5 ...\n",
      " $ Foundation   : Factor w/ 6 levels \"BrkTil\",\"CBlock\",..: 3 2 3 1 3 6 3 2 1 1 ...\n",
      " $ BsmtQual     : Factor w/ 4 levels \"Ex\",\"Fa\",\"Gd\",..: 3 3 3 4 3 3 1 3 4 4 ...\n",
      " $ BsmtCond     : Factor w/ 4 levels \"Fa\",\"Gd\",\"Po\",..: 4 4 4 2 4 4 4 4 4 4 ...\n",
      " $ BsmtExposure : Factor w/ 4 levels \"Av\",\"Gd\",\"Mn\",..: 4 2 3 4 1 4 1 3 4 4 ...\n",
      " $ BsmtFinType1 : Factor w/ 6 levels \"ALQ\",\"BLQ\",\"GLQ\",..: 3 1 3 1 3 3 3 1 6 3 ...\n",
      " $ BsmtFinSF1   : int  706 978 486 216 655 732 1369 859 0 851 ...\n",
      " $ BsmtFinType2 : Factor w/ 6 levels \"ALQ\",\"BLQ\",\"GLQ\",..: 6 6 6 6 6 6 6 2 6 6 ...\n",
      " $ BsmtFinSF2   : int  0 0 0 0 0 0 0 32 0 0 ...\n",
      " $ BsmtUnfSF    : int  150 284 434 540 490 64 317 216 952 140 ...\n",
      " $ TotalBsmtSF  : int  856 1262 920 756 1145 796 1686 1107 952 991 ...\n",
      " $ Heating      : Factor w/ 6 levels \"Floor\",\"GasA\",..: 2 2 2 2 2 2 2 2 2 2 ...\n",
      " $ HeatingQC    : Factor w/ 5 levels \"Ex\",\"Fa\",\"Gd\",..: 1 1 1 3 1 1 1 1 3 1 ...\n",
      " $ CentralAir   : Factor w/ 2 levels \"N\",\"Y\": 2 2 2 2 2 2 2 2 2 2 ...\n",
      " $ Electrical   : Factor w/ 5 levels \"FuseA\",\"FuseF\",..: 5 5 5 5 5 5 5 5 2 5 ...\n",
      " $ X1stFlrSF    : int  856 1262 920 961 1145 796 1694 1107 1022 1077 ...\n",
      " $ X2ndFlrSF    : int  854 0 866 756 1053 566 0 983 752 0 ...\n",
      " $ LowQualFinSF : int  0 0 0 0 0 0 0 0 0 0 ...\n",
      " $ GrLivArea    : int  1710 1262 1786 1717 2198 1362 1694 2090 1774 1077 ...\n",
      " $ BsmtFullBath : int  1 0 1 1 1 1 1 1 0 1 ...\n",
      " $ BsmtHalfBath : int  0 1 0 0 0 0 0 0 0 0 ...\n",
      " $ FullBath     : int  2 2 2 1 2 1 2 2 2 1 ...\n",
      " $ HalfBath     : int  1 0 1 0 1 1 0 1 0 0 ...\n",
      " $ BedroomAbvGr : int  3 3 3 3 4 1 3 3 2 2 ...\n",
      " $ KitchenAbvGr : int  1 1 1 1 1 1 1 1 2 2 ...\n",
      " $ KitchenQual  : Factor w/ 4 levels \"Ex\",\"Fa\",\"Gd\",..: 3 4 3 3 3 4 3 4 4 4 ...\n",
      " $ TotRmsAbvGrd : int  8 6 6 7 9 5 7 7 8 5 ...\n",
      " $ Functional   : Factor w/ 7 levels \"Maj1\",\"Maj2\",..: 7 7 7 7 7 7 7 7 3 7 ...\n",
      " $ Fireplaces   : int  0 1 1 1 1 0 1 2 2 2 ...\n",
      " $ FireplaceQu  : Factor w/ 5 levels \"Ex\",\"Fa\",\"Gd\",..: NA 5 5 3 5 NA 3 5 5 5 ...\n",
      " $ GarageType   : Factor w/ 6 levels \"2Types\",\"Attchd\",..: 2 2 2 6 2 2 2 2 6 2 ...\n",
      " $ GarageYrBlt  : int  2003 1976 2001 1998 2000 1993 2004 1973 1931 1939 ...\n",
      " $ GarageFinish : Factor w/ 3 levels \"Fin\",\"RFn\",\"Unf\": 2 2 2 3 2 3 2 2 3 2 ...\n",
      " $ GarageCars   : int  2 2 2 3 3 2 2 2 2 1 ...\n",
      " $ GarageArea   : int  548 460 608 642 836 480 636 484 468 205 ...\n",
      " $ GarageQual   : Factor w/ 5 levels \"Ex\",\"Fa\",\"Gd\",..: 5 5 5 5 5 5 5 5 2 3 ...\n",
      " $ GarageCond   : Factor w/ 5 levels \"Ex\",\"Fa\",\"Gd\",..: 5 5 5 5 5 5 5 5 5 5 ...\n",
      " $ PavedDrive   : Factor w/ 3 levels \"N\",\"P\",\"Y\": 3 3 3 3 3 3 3 3 3 3 ...\n",
      " $ WoodDeckSF   : int  0 298 0 0 192 40 255 235 90 0 ...\n",
      " $ OpenPorchSF  : int  61 0 42 35 84 30 57 204 0 4 ...\n",
      " $ EnclosedPorch: int  0 0 0 272 0 0 0 228 205 0 ...\n",
      " $ X3SsnPorch   : int  0 0 0 0 0 320 0 0 0 0 ...\n",
      " $ ScreenPorch  : int  0 0 0 0 0 0 0 0 0 0 ...\n",
      " $ PoolArea     : int  0 0 0 0 0 0 0 0 0 0 ...\n",
      " $ PoolQC       : Factor w/ 3 levels \"Ex\",\"Fa\",\"Gd\": NA NA NA NA NA NA NA NA NA NA ...\n",
      " $ Fence        : Factor w/ 4 levels \"GdPrv\",\"GdWo\",..: NA NA NA NA NA 3 NA NA NA NA ...\n",
      " $ MiscFeature  : Factor w/ 4 levels \"Gar2\",\"Othr\",..: NA NA NA NA NA 3 NA 3 NA NA ...\n",
      " $ MiscVal      : int  0 0 0 0 0 700 0 350 0 0 ...\n",
      " $ MoSold       : int  2 5 9 2 12 10 8 11 4 1 ...\n",
      " $ YrSold       : int  2008 2007 2008 2006 2008 2009 2007 2009 2008 2008 ...\n",
      " $ SaleType     : Factor w/ 9 levels \"COD\",\"Con\",\"ConLD\",..: 9 9 9 9 9 9 9 9 9 9 ...\n",
      " $ SaleCondition: Factor w/ 6 levels \"Abnorml\",\"AdjLand\",..: 5 5 5 1 5 5 5 5 1 5 ...\n",
      " $ SalePrice    : int  208500 181500 223500 140000 250000 143000 307000 200000 129900 118000 ...\n"
     ]
    }
   ],
   "source": [
    "str(train)"
   ]
  },
  {
   "cell_type": "markdown",
   "metadata": {},
   "source": [
    "## Summarize the missing values in the data."
   ]
  },
  {
   "cell_type": "markdown",
   "metadata": {},
   "source": [
    "\n",
    "Viewing the first five rows of the data indicates that there are columns which have missing values. \n",
    "\n",
    "### Categorical variables\n",
    "The categorical variables with the largest number of missing values are: Alley, FirePlaceQu, PoolQC, Fence, and MiscFeature.\n",
    "\n",
    "* Alley: indicates the type of alley access\n",
    "* FirePlaceQu: FirePlace Quality\n",
    "* PoolQC: Pool Quality\n",
    "* Fence: Fence Quality\n",
    "* MiscFeature: Miscellaneous features not covered in other categories\n",
    "\n",
    "The missing values indicate that majority of the houses do not have alley access, no pool, no fence and no elevator, 2nd garage, shed or tennis court that is covered by the MiscFeature.\n",
    "\n",
    "### Numeric variables\n",
    "The numeric variables do not have as many missing values but there are still some present. There are 259 values for the LotFrontage, 8 missing values for MasVnrArea and 81 missing values for GarageYrBlt.\n",
    "\n",
    "* LotFrontage: Linear feet of street connected to property\n",
    "* GarageYrBlt: Year garage was built\n",
    "* MasVnrArea: Masonry veener area in square feet\n",
    "\n",
    "Definition of Masonry Veener from google: Veneer masonry is a popular choice for home building and remodeling, because it gives the appearance of a solid brick or stone wall while providing better economy and insulation. It can be used as an addition to conventional wood frame structures, and can be placed on concrete block walls.\n",
    "\n",
    "Brick veeners are not essential to the stucture of the house but are used to chance the appearance of the wall while providing better insulation. They tend to only have one brick layer."
   ]
  },
  {
   "cell_type": "code",
   "execution_count": 41,
   "metadata": {
    "collapsed": false
   },
   "outputs": [
    {
     "data": {
      "text/html": [
       "<dl class=dl-horizontal>\n",
       "\t<dt>PoolQC</dt>\n",
       "\t\t<dd>1453</dd>\n",
       "\t<dt>MiscFeature</dt>\n",
       "\t\t<dd>1406</dd>\n",
       "\t<dt>Alley</dt>\n",
       "\t\t<dd>1369</dd>\n",
       "\t<dt>Fence</dt>\n",
       "\t\t<dd>1179</dd>\n",
       "\t<dt>FireplaceQu</dt>\n",
       "\t\t<dd>690</dd>\n",
       "\t<dt>LotFrontage</dt>\n",
       "\t\t<dd>259</dd>\n",
       "\t<dt>GarageType</dt>\n",
       "\t\t<dd>81</dd>\n",
       "\t<dt>GarageYrBlt</dt>\n",
       "\t\t<dd>81</dd>\n",
       "\t<dt>GarageFinish</dt>\n",
       "\t\t<dd>81</dd>\n",
       "\t<dt>GarageQual</dt>\n",
       "\t\t<dd>81</dd>\n",
       "\t<dt>GarageCond</dt>\n",
       "\t\t<dd>81</dd>\n",
       "\t<dt>BsmtExposure</dt>\n",
       "\t\t<dd>38</dd>\n",
       "\t<dt>BsmtFinType2</dt>\n",
       "\t\t<dd>38</dd>\n",
       "\t<dt>BsmtQual</dt>\n",
       "\t\t<dd>37</dd>\n",
       "\t<dt>BsmtCond</dt>\n",
       "\t\t<dd>37</dd>\n",
       "\t<dt>BsmtFinType1</dt>\n",
       "\t\t<dd>37</dd>\n",
       "\t<dt>MasVnrType</dt>\n",
       "\t\t<dd>8</dd>\n",
       "\t<dt>MasVnrArea</dt>\n",
       "\t\t<dd>8</dd>\n",
       "\t<dt>Electrical</dt>\n",
       "\t\t<dd>1</dd>\n",
       "</dl>\n"
      ],
      "text/latex": [
       "\\begin{description*}\n",
       "\\item[PoolQC] 1453\n",
       "\\item[MiscFeature] 1406\n",
       "\\item[Alley] 1369\n",
       "\\item[Fence] 1179\n",
       "\\item[FireplaceQu] 690\n",
       "\\item[LotFrontage] 259\n",
       "\\item[GarageType] 81\n",
       "\\item[GarageYrBlt] 81\n",
       "\\item[GarageFinish] 81\n",
       "\\item[GarageQual] 81\n",
       "\\item[GarageCond] 81\n",
       "\\item[BsmtExposure] 38\n",
       "\\item[BsmtFinType2] 38\n",
       "\\item[BsmtQual] 37\n",
       "\\item[BsmtCond] 37\n",
       "\\item[BsmtFinType1] 37\n",
       "\\item[MasVnrType] 8\n",
       "\\item[MasVnrArea] 8\n",
       "\\item[Electrical] 1\n",
       "\\end{description*}\n"
      ],
      "text/markdown": [
       "PoolQC\n",
       ":   1453MiscFeature\n",
       ":   1406Alley\n",
       ":   1369Fence\n",
       ":   1179FireplaceQu\n",
       ":   690LotFrontage\n",
       ":   259GarageType\n",
       ":   81GarageYrBlt\n",
       ":   81GarageFinish\n",
       ":   81GarageQual\n",
       ":   81GarageCond\n",
       ":   81BsmtExposure\n",
       ":   38BsmtFinType2\n",
       ":   38BsmtQual\n",
       ":   37BsmtCond\n",
       ":   37BsmtFinType1\n",
       ":   37MasVnrType\n",
       ":   8MasVnrArea\n",
       ":   8Electrical\n",
       ":   1\n",
       "\n"
      ],
      "text/plain": [
       "      PoolQC  MiscFeature        Alley        Fence  FireplaceQu  LotFrontage \n",
       "        1453         1406         1369         1179          690          259 \n",
       "  GarageType  GarageYrBlt GarageFinish   GarageQual   GarageCond BsmtExposure \n",
       "          81           81           81           81           81           38 \n",
       "BsmtFinType2     BsmtQual     BsmtCond BsmtFinType1   MasVnrType   MasVnrArea \n",
       "          38           37           37           37            8            8 \n",
       "  Electrical \n",
       "           1 "
      ]
     },
     "metadata": {},
     "output_type": "display_data"
    }
   ],
   "source": [
    "na.cols = which(colSums(is.na(train)) > 0)\n",
    "sort(colSums(sapply(train[na.cols], is.na)), decreasing = TRUE)"
   ]
  }
 ],
 "metadata": {
  "kernelspec": {
   "display_name": "R",
   "language": "R",
   "name": "ir"
  },
  "language_info": {
   "codemirror_mode": "r",
   "file_extension": ".r",
   "mimetype": "text/x-r-source",
   "name": "R",
   "pygments_lexer": "r",
   "version": "3.3.2"
  }
 },
 "nbformat": 4,
 "nbformat_minor": 2
}
